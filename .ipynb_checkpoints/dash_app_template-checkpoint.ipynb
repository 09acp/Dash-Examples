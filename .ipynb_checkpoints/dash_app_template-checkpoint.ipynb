{
 "cells": [
  {
   "cell_type": "markdown",
   "metadata": {},
   "source": [
    "### DEFAULT LAYOUT"
   ]
  },
  {
   "cell_type": "code",
   "execution_count": null,
   "metadata": {},
   "outputs": [],
   "source": [
    "# TIME RANGE SLIDER \n",
    "year_options = pd.DatetimeIndex(df.reset_index()['Date']).year #.day .month\n",
    "\n",
    "# SET CC\n",
    "external_stylesheets = ['https://codepen.io/chriddyp/pen/bWLwgP.css']\n",
    "app = dash.Dash(__name__, external_stylesheets=external_stylesheets)\n",
    "\n",
    "app.layout = html.Div([\n",
    "    \n",
    "    # ELEMENT 1. VERTICALLY ALIGNED ON HALF THE SCREEN \n",
    "    html.Div([\n",
    "        # DROPDOWN\n",
    "        html.Div([\n",
    "            dcc.Dropdown(\n",
    "                id='selection_1',\n",
    "                options=[{'label': i, 'value': i} for i in df['FEATURE'].unique()], #EG CATEGORICAL \n",
    "                value= 7 # ANY ONE VALUE FROM OPTIONS \n",
    "            ),\n",
    "        ],\n",
    "        style={'width': '49%', 'display': 'inline-block'}), # STYLE ELEMENT 1\n",
    "        # SOMETHING ELSE - EMPTY\n",
    "        html.Div([\n",
    "        ], style={'width': '49%', 'float': 'right', 'display': 'inline-block'})\n",
    "    ], style={\n",
    "        'borderBottom': 'thin lightgrey solid',\n",
    "        'backgroundColor': 'rgb(250, 250, 250)',\n",
    "        'padding': '10px 5px'\n",
    "    }),\n",
    "\n",
    "    \n",
    "    # ELEMENT 2. MAIN GRAPH. VERTICALLY LEFT HALF THE SCREEN \n",
    "    html.Div([\n",
    "        dcc.Graph(\n",
    "            id='plot_1',\n",
    "            hoverData={'points': [{'customdata': '2007-03-01'}]}  # custom data STANDARD, INITIAL VALUE MUST BE SET \n",
    "        )\n",
    "    ], style={'width': '49%', 'display': 'inline-block', 'padding': '0 20'}),\n",
    "    \n",
    "    \n",
    "    # ELEMENT 3. SUBPLOT. VERTICALLY RIGHT HALF THE SCREEN \n",
    "    html.Div([\n",
    "        dcc.Graph(id='plot_2'),\n",
    "    ], style={'display': 'inline-block', 'width': '49%'}),\n",
    "\n",
    "    \n",
    "    # ELEMENT 4. VERTICALLY ALIGNED ON HALF THE SCREEN \n",
    "    html.Div(dcc.Slider(\n",
    "        id='slider_1',\n",
    "        min=year_options.min(),\n",
    "        max=year_options.max(),\n",
    "        value= 2005,\n",
    "        marks=  {i: '{}'.format(i) for i in year_options.unique().tolist()},\n",
    "        step=None\n",
    "    ), style={'width': '49%', 'padding': '0px 20px 20px 20px'})\n",
    "])"
   ]
  },
  {
   "cell_type": "code",
   "execution_count": null,
   "metadata": {},
   "outputs": [],
   "source": []
  },
  {
   "cell_type": "code",
   "execution_count": null,
   "metadata": {},
   "outputs": [],
   "source": []
  }
 ],
 "metadata": {
  "kernelspec": {
   "display_name": "Python 3",
   "language": "python",
   "name": "python3"
  },
  "language_info": {
   "codemirror_mode": {
    "name": "ipython",
    "version": 3
   },
   "file_extension": ".py",
   "mimetype": "text/x-python",
   "name": "python",
   "nbconvert_exporter": "python",
   "pygments_lexer": "ipython3",
   "version": "3.7.4"
  }
 },
 "nbformat": 4,
 "nbformat_minor": 2
}
